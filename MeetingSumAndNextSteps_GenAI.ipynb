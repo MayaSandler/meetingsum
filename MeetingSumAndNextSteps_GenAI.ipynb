{
 "cells": [
  {
   "cell_type": "markdown",
   "metadata": {},
   "source": [
    "**Install Vertex AI SDK initialize Vertex AI** "
   ]
  },
  {
   "cell_type": "code",
   "execution_count": 76,
   "metadata": {},
   "outputs": [],
   "source": [
    "# !pip install google-cloud-aiplatform --upgrade --user\r\n",
    "\r\n",
    "PROJECT_ID = \"#GCP-project-id\" #given by GCP\r\n",
    "LOCATION = \"us-central1\" #your local area\r\n",
    "\r\n",
    "import vertexai\r\n",
    "vertexai.init(project=PROJECT_ID, location=LOCATION)"
   ]
  },
  {
   "cell_type": "markdown",
   "metadata": {},
   "source": [
    "**Load model**"
   ]
  },
  {
   "cell_type": "code",
   "execution_count": null,
   "metadata": {},
   "outputs": [],
   "source": [
    "generation_model = TextGenerationModel.from_pretrained(\"text-bison@001\")"
   ]
  },
  {
   "cell_type": "markdown",
   "metadata": {},
   "source": [
    "**Prompts**\n",
    "\n",
    "Prompt should include the task, examples of input with correct-outputs, the new input, and the result unduction  "
   ]
  },
  {
   "cell_type": "code",
   "execution_count": null,
   "metadata": {},
   "outputs": [],
   "source": [
    "meetingtext = \"\"\"\r\n",
    "AI governance team\r\n",
    "\"\"\""
   ]
  },
  {
   "cell_type": "code",
   "execution_count": null,
   "metadata": {},
   "outputs": [],
   "source": [
    "new_line = '\\n'\n",
    "\n",
    "prompt_text = f\"\"\"Text:{meetingtext}\"\"\"\n",
    "# print(prompt_text)"
   ]
  },
  {
   "cell_type": "code",
   "execution_count": null,
   "metadata": {},
   "outputs": [],
   "source": [
    "summarize_task = \"\"\"Summarize the meeting according to the following text.\"\"\" #summary task\n",
    "concern_task = \"\"\"Give 5 top concerns that come out from this conversation.\"\"\" #concerns task\n",
    "positive_task = \"\"\"Give 5 top positive feedbacks that come out from this conversation.\"\"\" #positive task\n",
    "recommend_task = \"\"\"Give 5 recommendations on what to focus on from this conversation.\"\"\" #recommendations task\n",
    "meeting_task_list = [summarize_task, concern_task, positive_task, recommend_task]\n",
    "# print(meeting_task_list)"
   ]
  },
  {
   "cell_type": "code",
   "execution_count": null,
   "metadata": {},
   "outputs": [],
   "source": [
    "summarize_init = \"\"\"Summarization:\"\"\" #initialize summary task\n",
    "concern_init = \"\"\"Concenrns:\"\"\" #initialize concenrs task\n",
    "positive_init = \"\"\"Positive feedback:\"\"\" #initialize positive feedback task\n",
    "recommend_init = \"\"\"Recommendations:\"\"\" #initialize recommendation task\n",
    "meeting_init_list = [summarize_init, concern_init, positive_init, recommend_init]\n",
    "# print(meeting_init_list)"
   ]
  },
  {
   "cell_type": "code",
   "execution_count": null,
   "metadata": {},
   "outputs": [],
   "source": [
    "# create a list of dictionaries with tople "
   ]
  },
  {
   "cell_type": "markdown",
   "metadata": {},
   "source": [
    "Better way:"
   ]
  },
  {
   "cell_type": "code",
   "execution_count": null,
   "metadata": {
    "tags": []
   },
   "outputs": [],
   "source": [
    "length = len(meeting_task_list)\n",
    "prompt_list = []\n",
    "for i in range(length):\n",
    "    task = meeting_task_list[i]\n",
    "    init = meeting_init_list[i]\n",
    "    prompt = f\"\"\"{task}{new_line}{prompt_text}{init}\"\"\"\n",
    "    # print(i, \"; \", f\"\"\"{task}{new_line}{prompt_text}{init}\"\"\")\n",
    "    prompt_list.insert(i, prompt)\n",
    "# print(prompt_list[0])"
   ]
  },
  {
   "cell_type": "markdown",
   "metadata": {},
   "source": [
    "Better way:"
   ]
  },
  {
   "cell_type": "code",
   "execution_count": null,
   "metadata": {},
   "outputs": [],
   "source": [
    "result_list = []\r\n",
    "for i in range(length):\r\n",
    "    result = generation_model.predict(\r\n",
    "        prompt_list[i], temperature=0.2, max_output_tokens=1024, top_k=40, top_p=0.8\r\n",
    "    ).text    \r\n",
    "    # print(i, \"; \", result)\r\n",
    "    result_list.append(result)\r\n",
    "print(result_list[0])\r\n",
    "######## was not checked ###########"
   ]
  },
  {
   "cell_type": "markdown",
   "metadata": {},
   "source": [
    "**Create the task type and results from the same task type in one list**"
   ]
  },
  {
   "cell_type": "code",
   "execution_count": null,
   "metadata": {},
   "outputs": [],
   "source": [
    "# meeting_result_summarize = f\"\"\"{meeting_init_list[0]}{new_line}{result_summarize}\"\"\"\r\n",
    "\r\n",
    "print_result_list = []\r\n",
    "for i in range(length):\r\n",
    "    printresult = f\"{meeting_init_list[i]}{new_line}{result_list[i]}{new_line}\" # \\\\n should be a new line in f\r\n",
    "    # print(i, \"; \", printresult)\r\n",
    "    print_result_list.append(printresult)\r\n",
    "print(print_result_list[0])\r\n",
    "\r\n",
    "######## was not checked ###########"
   ]
  },
  {
   "cell_type": "markdown",
   "metadata": {},
   "source": [
    "**Print the execution result of the meeting in a summarization manner**"
   ]
  },
  {
   "cell_type": "code",
   "execution_count": null,
   "metadata": {},
   "outputs": [],
   "source": [
    "print(\r\n",
    "    f\"The summerization of this meeting is the following:{new_line},{print_result_list[0]},{new_line},{print_result_list[1]}, {new_line},{print_result_list[3]}\"\r\n",
    ")"
   ]
  }
 ],
 "metadata": {
  "interpreter": {
   "hash": "33ac2f6c3d6adfd68087f6d15ad3db9c1b2bf5218b95d3579f23e5deb638db1d"
  },
  "kernelspec": {
   "display_name": "Python 3.9.1 64-bit",
   "name": "python3"
  },
  "language_info": {
   "name": "python",
   "version": ""
  },
  "orig_nbformat": 4
 },
 "nbformat": 4,
 "nbformat_minor": 2
}